{
 "cells": [
  {
   "cell_type": "code",
   "execution_count": 1,
   "metadata": {},
   "outputs": [],
   "source": [
    "#imports\n",
    "from sleeper_wrapper import Stats\n",
    "from sleeper_wrapper import Players\n",
    "import pandas as pd"
   ]
  },
  {
   "cell_type": "code",
   "execution_count": 2,
   "metadata": {},
   "outputs": [],
   "source": [
    "#init stats class\n",
    "stats = Stats()"
   ]
  },
  {
   "cell_type": "code",
   "execution_count": 3,
   "metadata": {},
   "outputs": [],
   "source": [
    "#init players class\n",
    "players = Players()"
   ]
  },
  {
   "cell_type": "code",
   "execution_count": 63,
   "metadata": {},
   "outputs": [],
   "source": [
    "#checking data\n",
    "stats_json=stats.get_all_stats(season_type='regular', season=2021)\n",
    "projections_json=stats.get_week_projections(season_type='regular', season=2021, week=1)\n",
    "\n",
    "#get_all_projections"
   ]
  },
  {
   "cell_type": "code",
   "execution_count": 4,
   "metadata": {},
   "outputs": [],
   "source": [
    "#get player data\n",
    "players_json=players.get_all_players()"
   ]
  },
  {
   "cell_type": "code",
   "execution_count": 5,
   "metadata": {},
   "outputs": [],
   "source": [
    "#save player data to dataframe\n",
    "df_players=pd.DataFrame(players_json).T.reset_index()\n",
    "df_players.to_pickle('df_players.pkl')"
   ]
  },
  {
   "cell_type": "code",
   "execution_count": 45,
   "metadata": {},
   "outputs": [
    {
     "data": {
      "text/plain": [
       "{'DB',\n",
       " 'DEF',\n",
       " 'DL',\n",
       " 'K',\n",
       " 'LB',\n",
       " 'LEO',\n",
       " 'LS',\n",
       " 'OG',\n",
       " 'OL',\n",
       " 'OT',\n",
       " 'P',\n",
       " 'QB',\n",
       " 'RB',\n",
       " 'TE',\n",
       " 'WR'}"
      ]
     },
     "execution_count": 45,
     "metadata": {},
     "output_type": "execute_result"
    }
   ],
   "source": [
    "#getting unique positons\n",
    "set([x[0] for x in df_players.fantasy_positions if x!=None])"
   ]
  },
  {
   "cell_type": "code",
   "execution_count": 27,
   "metadata": {},
   "outputs": [],
   "source": [
    "#get stats data, for every year since 2018\n",
    "df_stats=0\n",
    "start=0\n",
    "lista_dfs=[]\n",
    "for year in [2017,2018,2019,2020,2021]:\n",
    "    stats_json=stats.get_all_stats(season_type='regular', season=year)\n",
    "    for s in stats_json:\n",
    "        if start==0:\n",
    "            df_stats=pd.DataFrame(stats_json[s], index=[s])\n",
    "            start=start+1\n",
    "        else:\n",
    "            for sub_s in stats_json[s]:\n",
    "                df_stats.loc[s,sub_s]=stats_json[s][sub_s]\n",
    "        df_stats.loc[s,'season']=year\n",
    "    lista_dfs.append(df_stats)\n",
    "    start=0\n"
   ]
  },
  {
   "cell_type": "code",
   "execution_count": 39,
   "metadata": {},
   "outputs": [
    {
     "data": {
      "text/plain": [
       "(27083, 247)"
      ]
     },
     "execution_count": 39,
     "metadata": {},
     "output_type": "execute_result"
    }
   ],
   "source": [
    "#unindo em 1 df\n",
    "df_stats_total=lista_dfs[0].reset_index().copy()\n",
    "for i in range(1,len(lista_dfs)):\n",
    "    df_stats_total=pd.concat([df_stats_total,lista_dfs[i].reset_index()], axis=0)\n",
    "df_stats_total.shape"
   ]
  },
  {
   "cell_type": "code",
   "execution_count": 43,
   "metadata": {},
   "outputs": [],
   "source": [
    "#save stats\n",
    "df_stats_total.to_pickle('df_stats.pkl')"
   ]
  },
  {
   "cell_type": "code",
   "execution_count": 49,
   "metadata": {},
   "outputs": [],
   "source": [
    "#get weekly projections since 2018\n",
    "df_projs=0\n",
    "start=0\n",
    "lista_dfs=[]\n",
    "for year in [2018,2019,2020,2021]:\n",
    "    for week in range(1,18,1):\n",
    "        stats_json=stats.get_week_projections(season_type='regular', season=year, week=week)\n",
    "        for s in stats_json:\n",
    "            if start==0:\n",
    "                df_projs=pd.DataFrame(stats_json[s], index=[s])\n",
    "                start=start+1\n",
    "            else:\n",
    "                for sub_s in stats_json[s]:\n",
    "                    df_projs.loc[s,sub_s]=stats_json[s][sub_s]\n",
    "            df_projs.loc[s,'season']=year\n",
    "            df_projs.loc[s,'week']=week\n",
    "        lista_dfs.append(df_projs)\n",
    "        start=0"
   ]
  },
  {
   "cell_type": "code",
   "execution_count": 50,
   "metadata": {},
   "outputs": [
    {
     "data": {
      "text/plain": [
       "(401454, 115)"
      ]
     },
     "execution_count": 50,
     "metadata": {},
     "output_type": "execute_result"
    }
   ],
   "source": [
    "#unindo em 1 df\n",
    "df_projs_total=lista_dfs[0].reset_index().copy()\n",
    "for i in range(1,len(lista_dfs)):\n",
    "    df_projs_total=pd.concat([df_projs_total,lista_dfs[i].reset_index()], axis=0)\n",
    "df_projs_total.shape"
   ]
  },
  {
   "cell_type": "code",
   "execution_count": 53,
   "metadata": {},
   "outputs": [],
   "source": [
    "#saving projections\n",
    "df_projs_total.to_pickle('df_projs.pkl')"
   ]
  },
  {
   "cell_type": "code",
   "execution_count": 57,
   "metadata": {},
   "outputs": [],
   "source": [
    "#get weekly stats + points\n",
    "df_stats_w=0\n",
    "start=0\n",
    "lista_dfs=[]\n",
    "for year in [2018,2019,2020,2021]:\n",
    "    for week in range(1,18,1):\n",
    "        stats_json=stats.get_week_stats(season_type='regular', season=year, week=week)\n",
    "        for s in stats_json:\n",
    "            if start==0:\n",
    "                df_stats_w=pd.DataFrame(stats_json[s], index=[s])\n",
    "                start=start+1\n",
    "            else:\n",
    "                for sub_s in stats_json[s]:\n",
    "                    df_stats_w.loc[s,sub_s]=stats_json[s][sub_s]\n",
    "            temp_score=stats.get_player_week_score(stats_json, s)\n",
    "            for metric in temp_score:\n",
    "                df_stats_w.loc[s,metric]=temp_score[metric]\n",
    "            df_stats_w.loc[s,'season']=year\n",
    "            df_stats_w.loc[s,'week']=week\n",
    "        lista_dfs.append(df_stats_w)\n",
    "        start=0"
   ]
  },
  {
   "cell_type": "code",
   "execution_count": 58,
   "metadata": {},
   "outputs": [
    {
     "data": {
      "text/plain": [
       "(124132, 242)"
      ]
     },
     "execution_count": 58,
     "metadata": {},
     "output_type": "execute_result"
    }
   ],
   "source": [
    "#unindo em 1 df\n",
    "df_stats_w_total=lista_dfs[0].reset_index().copy()\n",
    "for i in range(1,len(lista_dfs)):\n",
    "    df_stats_w_total=pd.concat([df_stats_w_total,lista_dfs[i].reset_index()], axis=0)\n",
    "df_stats_w_total.shape"
   ]
  },
  {
   "cell_type": "code",
   "execution_count": 62,
   "metadata": {},
   "outputs": [],
   "source": [
    "#save weekly stats+points\n",
    "df_stats_w_total.to_pickle('df_stats_w.pkl')"
   ]
  }
 ],
 "metadata": {
  "kernelspec": {
   "display_name": "Python 3.7.3 64-bit",
   "language": "python",
   "name": "python3"
  },
  "language_info": {
   "codemirror_mode": {
    "name": "ipython",
    "version": 3
   },
   "file_extension": ".py",
   "mimetype": "text/x-python",
   "name": "python",
   "nbconvert_exporter": "python",
   "pygments_lexer": "ipython3",
   "version": "3.7.3"
  },
  "orig_nbformat": 4,
  "vscode": {
   "interpreter": {
    "hash": "08f56efc7cdedacbbdf1993ea966347fa8feaf34d72e8db28d778119cdbb7244"
   }
  }
 },
 "nbformat": 4,
 "nbformat_minor": 2
}
