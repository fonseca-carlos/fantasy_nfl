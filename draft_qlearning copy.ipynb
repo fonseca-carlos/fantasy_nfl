{
 "cells": [
  {
   "cell_type": "code",
   "execution_count": 2,
   "metadata": {},
   "outputs": [],
   "source": [
    "import pandas as pd\n",
    "import numpy as np\n",
    "import matplotlib.pyplot as plt\n",
    "\n",
    "import random\n",
    "from operator import add\n",
    "import collections\n",
    "import torch\n",
    "import torch.nn as nn\n",
    "import torch.nn.functional as F\n",
    "import torch.optim as optim\n",
    "import copy\n",
    "import gym"
   ]
  },
  {
   "cell_type": "code",
   "execution_count": null,
   "metadata": {},
   "outputs": [],
   "source": [
    "'''IDEIA MUITO BOA\n",
    "\n",
    "E SE A PONTUACAO DO JOGADOR NAO FOSSE APENAS A SOMA DOS PONTOS TOTAIS? WIN ABOVE AVERAGE OU ALGUMA OUTRA DESSAS METRICAS MANEIRAS DO BASEBALL,\n",
    "ALGUMA COISA QUE SE UTILIZASSE TAMBEM DO DESV PAD DO CARA (E MELHOR UM CARA CONSTANTE OU UM QUE EXPLODE E MORRE? OU POSSO TER 2 QUE EXPLODEM\n",
    "NO TIME DESDE QUE EU PREVEJA EXPLOSAO EM SEMANAS DIFERENTES? PROVAVELMENTE DEPENDE DO TAMANHO DA EXPLOSAO TBM)\n",
    "'''"
   ]
  },
  {
   "cell_type": "code",
   "execution_count": 3,
   "metadata": {},
   "outputs": [],
   "source": [
    "#importando base de jogadores\n",
    "#agora ela vai ser uma base fake baseada no ano passado\n",
    "#na hora do vamos ver, tem que ser a base desse ano\n",
    "#essa base vai sendo alimentada com as escolhas da galera em tempo real\n",
    "\n",
    "df_projs=pd.read_pickle('df_projs.pkl')\n",
    "df_players=pd.read_pickle('df_players.pkl')"
   ]
  },
  {
   "cell_type": "code",
   "execution_count": 4,
   "metadata": {},
   "outputs": [],
   "source": [
    "#trabalhando a base de projs\n",
    "df=pd.read_pickle('df_projs.pkl')\n",
    "df=df_projs[df_projs['season']==2021]\n",
    "df=df.merge(df_players[['index', 'position', 'full_name']], how='left')\n",
    "df=df[['index', 'position', 'full_name', 'pts_ppr']]\n",
    "df['full_name']=np.where(df['full_name'].isna(), df['index'], df['full_name'])\n",
    "#df=df[['index', 'pts_ppr']]\n",
    "df=df.groupby(['index', 'position', 'full_name'], as_index=False)['pts_ppr'].sum()\n",
    "#df=df.groupby(['index', 'position', 'full_name'])['pts_ppr'].sum()\n",
    "df=df.sort_values('pts_ppr', ascending=False)\n",
    "df['draft']=0"
   ]
  },
  {
   "cell_type": "code",
   "execution_count": 170,
   "metadata": {},
   "outputs": [],
   "source": [
    "#salvando o df que sera modificado e retornado em csv\n",
    "#df.to_csv('base_draft.csv', sep=\";\")"
   ]
  },
  {
   "cell_type": "code",
   "execution_count": 194,
   "metadata": {},
   "outputs": [
    {
     "data": {
      "text/html": [
       "<div>\n",
       "<style scoped>\n",
       "    .dataframe tbody tr th:only-of-type {\n",
       "        vertical-align: middle;\n",
       "    }\n",
       "\n",
       "    .dataframe tbody tr th {\n",
       "        vertical-align: top;\n",
       "    }\n",
       "\n",
       "    .dataframe thead th {\n",
       "        text-align: right;\n",
       "    }\n",
       "</style>\n",
       "<table border=\"1\" class=\"dataframe\">\n",
       "  <thead>\n",
       "    <tr style=\"text-align: right;\">\n",
       "      <th></th>\n",
       "      <th>Unnamed: 0</th>\n",
       "      <th>index</th>\n",
       "      <th>position</th>\n",
       "      <th>full_name</th>\n",
       "      <th>pts_ppr</th>\n",
       "      <th>draft</th>\n",
       "      <th>order</th>\n",
       "      <th>Unnamed: 7</th>\n",
       "      <th>Unnamed: 8</th>\n",
       "      <th>Unnamed: 9</th>\n",
       "      <th>Unnamed: 10</th>\n",
       "      <th>Unnamed: 11</th>\n",
       "      <th>Unnamed: 12</th>\n",
       "    </tr>\n",
       "  </thead>\n",
       "  <tbody>\n",
       "    <tr>\n",
       "      <th>22</th>\n",
       "      <td>3722</td>\n",
       "      <td>6813</td>\n",
       "      <td>RB</td>\n",
       "      <td>Jonathan Taylor</td>\n",
       "      <td>0.7448</td>\n",
       "      <td>0</td>\n",
       "      <td>1</td>\n",
       "      <td>NaN</td>\n",
       "      <td>NaN</td>\n",
       "      <td>NaN</td>\n",
       "      <td>NaN</td>\n",
       "      <td>NaN</td>\n",
       "      <td>NaN</td>\n",
       "    </tr>\n",
       "    <tr>\n",
       "      <th>24</th>\n",
       "      <td>1773</td>\n",
       "      <td>4663</td>\n",
       "      <td>RB</td>\n",
       "      <td>Austin Ekeler</td>\n",
       "      <td>0.7368</td>\n",
       "      <td>0</td>\n",
       "      <td>2</td>\n",
       "      <td>NaN</td>\n",
       "      <td>NaN</td>\n",
       "      <td>NaN</td>\n",
       "      <td>NaN</td>\n",
       "      <td>NaN</td>\n",
       "      <td>NaN</td>\n",
       "    </tr>\n",
       "  </tbody>\n",
       "</table>\n",
       "</div>"
      ],
      "text/plain": [
       "    Unnamed: 0 index position        full_name  pts_ppr  draft  order  \\\n",
       "22        3722  6813       RB  Jonathan Taylor   0.7448      0      1   \n",
       "24        1773  4663       RB    Austin Ekeler   0.7368      0      2   \n",
       "\n",
       "    Unnamed: 7  Unnamed: 8  Unnamed: 9  Unnamed: 10  Unnamed: 11  Unnamed: 12  \n",
       "22         NaN         NaN         NaN          NaN          NaN          NaN  \n",
       "24         NaN         NaN         NaN          NaN          NaN          NaN  "
      ]
     },
     "execution_count": 194,
     "metadata": {},
     "output_type": "execute_result"
    }
   ],
   "source": [
    "#lendo a base\n",
    "df=pd.read_csv('base_draft.csv', sep=\";\")\n",
    "df=df.sort_values('order')\n",
    "df['pts_ppr']=df['pts_ppr']/400\n",
    "df.head(2)"
   ]
  },
  {
   "cell_type": "markdown",
   "metadata": {},
   "source": [
    "A seguir, vamos criar o \"state\" atual, o input do algoritmo"
   ]
  },
  {
   "cell_type": "code",
   "execution_count": 6,
   "metadata": {},
   "outputs": [],
   "source": [
    "#definindo as posicoes disponiveis\n",
    "dict_positions={'QB':2, 'RB':3, 'WR':3, 'TE':2, 'FLEX':3, 'K':1, 'DEF':1}\n",
    "\n",
    "#criando a funcao que, dada a posicao, vai selecionar o melhor jogador disponivel\n",
    "def selecao(draft, pos):\n",
    "    top_pos=draft[(draft['position']==pos) & (draft['draft']==0)].head(1)['index'].values[0]\n",
    "    return top_pos\n",
    "\n",
    "#criando a funcao que vai de fato selecionar os jogadores\n",
    "def draft(draft, rooster, player_index, state):\n",
    "    #draft[draft['index']==player_index]['draft']=1\n",
    "    draft=draft.set_index('index')\n",
    "    draft.loc[player_index,'draft']=1\n",
    "    draft=draft.reset_index()\n",
    "    rooster.append(player_index)\n",
    "    pos=draft[draft['index']==player_index]['position'].values[0]\n",
    "    if pos in ['RB', 'WR', 'TE'] and state[pos]<=0 and state['FLEX']>0:\n",
    "        state['FLEX']= state['FLEX'] - 1\n",
    "    else:\n",
    "        state[pos]= state[pos] - 1\n",
    "\n",
    "    return draft, rooster, state\n",
    "\n",
    "\n",
    "#criando o current state\n",
    "#vamos fazer um dict com os dados que precisamos\n",
    "#primeiro, inicializar as posicoes\n",
    "state=dict_positions.copy()\n",
    "#criando variavel para determinar se eh ida ou volta do draft\n",
    "state['ida']=1\n",
    "#puxar o top 30 de cada posicao. Importante pro cara ter uma ideia de quem vai estar disponivel pra frente.\n",
    "#esse dado na verdade vai estar em % vs media posicao, e % vs media de todas as posicoes, pra medir o valor do cara e da posicao\n",
    "def get_state(dict_positions, df, state):\n",
    "    media=df['pts_ppr'].mean()\n",
    "    for pos in dict_positions:\n",
    "        if pos=='FLEX':\n",
    "            continue\n",
    "        top_pos=df[(df['position']==pos) & (df['draft']==0)].copy()\n",
    "        media_pos=top_pos['pts_ppr'].mean()\n",
    "        i=0\n",
    "        if pos in ['K', 'DEF']:\n",
    "            limit=10\n",
    "        else:\n",
    "            limit=30\n",
    "        #while i<limit:\n",
    "        #    state[pos+'_'+str(i)+'_total']=top_pos.iloc[i]['pts_ppr']#/media\n",
    "            #state[pos+'_'+str(i)+'_pos']=top_pos.iloc[i]['pts_ppr']/media_pos\n",
    "        #    i=i+1\n",
    "    #agora vamos transformar em um df\n",
    "    df_state=pd.DataFrame(state, index=[0])\n",
    "    return df_state\n",
    "\n",
    "\n",
    "def init(df):\n",
    "    dict_positions={'QB':2, 'RB':3, 'WR':3, 'TE':2, 'FLEX':3, 'K':1, 'DEF':1}\n",
    "    state=dict_positions.copy()\n",
    "    state['ida']=1\n",
    "    df['draft']=0\n",
    "    rooster=[]\n",
    "\n",
    "    return dict_positions, state, df, rooster\n",
    "\n",
    "\n"
   ]
  },
  {
   "cell_type": "code",
   "execution_count": 7,
   "metadata": {},
   "outputs": [],
   "source": [
    "#criando a funcao que vai computar o score do state\n",
    "#o score vai ser composto pela soma das pontuacoes do time\n",
    "#impacto negativo demais se faltar jogador de alguma posicao\n",
    "#impacto bem negativo se tiver muitos jogadores da mesma posicao\n",
    "\n",
    "def score(state, draft, rooster):\n",
    "    positions=['QB', 'RB', 'WR', 'TE', 'FLEX', 'K', 'DEF']\n",
    "    pontos=draft[draft['index'].isin(rooster)]['pts_ppr'].sum()\n",
    "    falta=0\n",
    "    sobra=0\n",
    "    for pos in positions:\n",
    "        if state[pos]>0:\n",
    "            falta=falta+1\n",
    "        elif state[pos]<0:\n",
    "            sobra=sobra-1\n",
    "    conta= pontos - 1000000*falta #- 1000*sobra\n",
    "    return conta"
   ]
  },
  {
   "cell_type": "markdown",
   "metadata": {},
   "source": [
    "Agora vamos montar a rede neural que vai rodar aqui e dar uma resposta"
   ]
  },
  {
   "cell_type": "code",
   "execution_count": 195,
   "metadata": {},
   "outputs": [],
   "source": [
    "#montando a classe do jogo\n",
    "\n",
    "from gym import spaces\n",
    "\n",
    "class CustomEnv():\n",
    "    def __init__(self):\n",
    "        global df\n",
    "        self.action_space=spaces.Discrete(6)\n",
    "        self.options=['QB', 'RB', 'WR', 'TE', 'K', 'DEF']\n",
    "        self.rooster=[]\n",
    "        self.ida=1\n",
    "        self.spaces=5\n",
    "        self.qb=0\n",
    "        self.rb=0\n",
    "        self.wr=0\n",
    "        self.te=0\n",
    "        self.k=0\n",
    "        self.de=0\n",
    "        self.qb_max=2\n",
    "        self.rb_max=3\n",
    "        self.wr_max=3\n",
    "        self.te_max=2\n",
    "        self.k_max=1\n",
    "        self.de_max=1\n",
    "        self.flex_max=3\n",
    "        self.rb_start=2\n",
    "        self.wr_start=2\n",
    "        self.te_start=1\n",
    "        self.flex_start=3\n",
    "        self.pts=0\n",
    "        self.pts_debug=[]\n",
    "        min=np.array([1,1,1,1,1,1])\n",
    "        max=np.array([2,6,7,6,1,1])\n",
    "        min=np.array([0,0,0,0,0,0])\n",
    "        max=np.array([6,6,6,6,6,6])\n",
    "        self.observation_space=spaces.Box(min,max)\n",
    "        #self.state=min\n",
    "        self.state=np.zeros(5)\n",
    "        self.df=df\n",
    "        self.lc=[]\n",
    "        self.debug=[]\n",
    "\n",
    "    def step(self, action):\n",
    "\n",
    "\n",
    "        choice=self.options[action]\n",
    "\n",
    "        \n",
    "        #adicionando a simulacao dos outros players\n",
    "        #por hora, eles so pegam os x melhores jogadores, independente da posicao\n",
    "        #estou considerando que a IA e o ultimo a escolher de um total de 8 players\n",
    "        df=self.df\n",
    "        if self.ida==1:\n",
    "            top = df[(df['draft']==0)].head(7)['index'].values\n",
    "            df=df.set_index('index')\n",
    "            for i in top:\n",
    "                df.loc[i, 'draft']=1\n",
    "            df=df.reset_index()\n",
    "        else:\n",
    "            a=1\n",
    "\n",
    "\n",
    "        top_pos=df[(df['position']==choice) & (df['draft']==0)].head(1)['index'].values[0]\n",
    "        pts=df[(df['position']==choice) & (df['draft']==0)].head(1)['pts_ppr'].values[0]\n",
    "\n",
    "        df=df.set_index('index')\n",
    "        df.loc[top_pos,'draft']=1\n",
    "        df=df.reset_index()\n",
    "\n",
    "\n",
    "        self.df=df\n",
    "        self.rooster.append(top_pos)\n",
    "        b=0\n",
    "        if choice=='QB':\n",
    "            \n",
    "            if self.qb>=self.qb_max:\n",
    "                factor=0\n",
    "                b=1\n",
    "            elif self.qb>=self.qb_max//2:\n",
    "                factor=0.1\n",
    "                b=2\n",
    "            else:\n",
    "                factor=1\n",
    "                b=3\n",
    "            self.qb=self.qb+1\n",
    "            \n",
    "        elif choice=='RB':\n",
    "            if self.rb>=self.rb_max: #se eu completei os rb\n",
    "                if self.flex_start>0: #se eu nao completei os flex\n",
    "                    factor=1\n",
    "                    b=4\n",
    "                    self.flex_start=self.flex_start-1\n",
    "                else: #else - se eu completei tambem os flex\n",
    "                    factor=0\n",
    "                    b=5\n",
    "            elif self.rb_start<=0: #se eu completei os titulares\n",
    "                if self.flex_start>0: #se eu nao completei os flex\n",
    "                    factor=1\n",
    "                    b=6\n",
    "                    self.flex_start=self.flex_start-1\n",
    "                else: #else - se eu completei tambem os flex\n",
    "                    factor=0.1\n",
    "                    b=7\n",
    "            else: #else - se ainda falta rb titular\n",
    "                factor=1\n",
    "                b=8\n",
    "                self.rb_start=self.rb_start-1\n",
    "            self.rb=self.rb+1\n",
    "            '''\n",
    "            if self.rb>=self.rb_max and self.rb+self.wr+self.te >= self.flex_max+round(self.rb_max/2)+round(self.wr_max/2)+round(self.te_max/2):\n",
    "                factor=0\n",
    "            elif self.rb>=self.rb_max//2 and self.rb+self.wr+self.te>=self.rb_max//2+self.wr_max//2+self.te_max//2+self.flex_max:\n",
    "                factor=0.1\n",
    "            else:\n",
    "                factor=1\n",
    "            self.rb=self.rb+1\n",
    "            '''\n",
    "        elif choice=='WR':\n",
    "            if self.wr>=self.wr_max: #se eu completei os rb\n",
    "                if self.flex_start>0: #se eu nao completei os flex\n",
    "                    factor=1\n",
    "                    b=9\n",
    "                    self.flex_start=self.flex_start-1\n",
    "                else: #else - se eu completei tambem os flex\n",
    "                    factor=0\n",
    "                    b=10\n",
    "            elif self.wr_start<=0: #se eu completei os titulares\n",
    "                if self.flex_start>0: #se eu nao completei os flex\n",
    "                    factor=1\n",
    "                    b=11\n",
    "                    self.flex_start=self.flex_start-1\n",
    "                else: #else - se eu completei tambem os flex\n",
    "                    factor=0.1\n",
    "                    b=12\n",
    "            else: #else - se ainda falta rb titular\n",
    "                factor=1\n",
    "                b=13\n",
    "                self.wr_start=self.wr_start-1\n",
    "            self.wr=self.wr+1\n",
    "        elif choice=='TE':\n",
    "            if self.te>=self.te_max: #se eu completei os rb\n",
    "                if self.flex_start>0: #se eu nao completei os flex\n",
    "                    factor=1\n",
    "                    b=14\n",
    "                    self.flex_start=self.flex_start-1\n",
    "                else: #else - se eu completei tambem os flex\n",
    "                    factor=0\n",
    "                    b=15\n",
    "            elif self.te_start<=0: #se eu completei os titulares\n",
    "                if self.flex_start>0: #se eu nao completei os flex\n",
    "                    factor=1\n",
    "                    b=16\n",
    "                    self.flex_start=self.flex_start-1\n",
    "                else: #else - se eu completei tambem os flex\n",
    "                    factor=0.1\n",
    "                    b=17\n",
    "            else: #else - se ainda falta rb titular\n",
    "                factor=1\n",
    "                b=18\n",
    "                self.te_start=self.te_start-1\n",
    "            self.te=self.te+1\n",
    "        elif choice=='K':\n",
    "            if self.k>0:\n",
    "                factor=0\n",
    "                b=19\n",
    "            else:\n",
    "                factor=1\n",
    "                b=20\n",
    "            self.k=self.k+1\n",
    "        elif choice=='DEF':\n",
    "            if self.de>0:\n",
    "                factor=0\n",
    "                b=21\n",
    "            else:\n",
    "                factor=1\n",
    "                b=22\n",
    "            self.de=self.de+1\n",
    "\n",
    "\n",
    "        self.state[5-self.spaces]= (action+1)/6\n",
    "        self.spaces=self.spaces-1\n",
    "\n",
    "        self.pts = self.pts + factor * pts\n",
    "        self.pts_debug.append(factor * pts)\n",
    "        self.debug.append(b)\n",
    "\n",
    "        self.ida=self.ida * -1\n",
    "\n",
    "        #self.state[action]= self.state[action] + 1\n",
    "        \n",
    "    \n",
    "\n",
    "        \n",
    "\n",
    "        falta=np.array([self.qb, self.rb, self.wr, self.te, self.k, self.de])\n",
    "        falta2=np.array([self.qb_max, self.rb_max, self.wr_max, self.te_max, self.k_max, self.de_max])\n",
    "        falta=sum(falta2>falta)\n",
    "        sobra=sum(falta>falta2)\n",
    "\n",
    "        falta2= self.te + self.rb + self.wr - (self.te_max + self.rb_max + self.wr_max + self.flex_max)\n",
    "        falta2=max(falta2,0)\n",
    "        \n",
    "        reward=(self.pts)#/20000# - 0.1 * falta - 0.1 * sobra\n",
    "        #reward= factor * pts\n",
    "        #print (falta)\n",
    "        #print(reward)\n",
    "\n",
    "        info={}\n",
    "\n",
    "        if self.spaces==0:\n",
    "            done=True\n",
    "            self.lc.append(reward)\n",
    "        else:\n",
    "            done=False\n",
    "\n",
    "        return self.state, reward, done, info\n",
    "\n",
    "    def reset(self):\n",
    "        \n",
    "        self.rooster=[]\n",
    "        self.ida=1\n",
    "        self.spaces=5\n",
    "        self.qb=0\n",
    "        self.rb=0\n",
    "        self.wr=0\n",
    "        self.te=0\n",
    "        self.k=0\n",
    "        self.de=0\n",
    "        self.rb_start=2\n",
    "        self.wr_start=2\n",
    "        self.te_start=1\n",
    "        self.flex_start=3\n",
    "        self.pts=0\n",
    "        self.pts_debug=[]\n",
    "        self.debug=[]\n",
    "        #self.state=np.zeros(6)\n",
    "        self.state=np.zeros(5)\n",
    "        self.df['draft']=0\n",
    "\n",
    "        return self.state\n",
    "\n"
   ]
  },
  {
   "cell_type": "code",
   "execution_count": 196,
   "metadata": {},
   "outputs": [
    {
     "name": "stderr",
     "output_type": "stream",
     "text": [
      "c:\\Users\\Carlos Magno\\AppData\\Local\\Programs\\Python\\Python37\\lib\\site-packages\\gym\\spaces\\box.py:128: UserWarning: \u001b[33mWARN: Box bound precision lowered by casting to float32\u001b[0m\n",
      "  logger.warn(f\"Box bound precision lowered by casting to {self.dtype}\")\n"
     ]
    },
    {
     "name": "stdout",
     "output_type": "stream",
     "text": [
      "Episode:1 Score:11.3466\n",
      "Episode:2 Score:8.846375\n",
      "Episode:3 Score:4.6434999999999995\n",
      "Episode:4 Score:9.776525000000001\n",
      "Episode:5 Score:7.87185\n",
      "Episode:6 Score:9.471675000000001\n",
      "Episode:7 Score:8.348425\n",
      "Episode:8 Score:8.4908\n",
      "Episode:9 Score:2.9050000000000002\n",
      "Episode:10 Score:6.004475\n",
      "Episode:11 Score:6.517025\n",
      "Episode:12 Score:9.091425000000001\n",
      "Episode:13 Score:9.506425\n",
      "Episode:14 Score:5.72088\n",
      "Episode:15 Score:10.321225000000002\n",
      "Episode:16 Score:10.652225000000001\n",
      "Episode:17 Score:10.040675\n",
      "Episode:18 Score:8.24535\n",
      "Episode:19 Score:7.878285\n",
      "Episode:20 Score:9.082025000000002\n"
     ]
    }
   ],
   "source": [
    "env = CustomEnv()\n",
    "\n",
    "episodes = 20 #20 shower episodes\n",
    "for episode in range(1, episodes+1):\n",
    "    env.reset()\n",
    "    done = False\n",
    "    score = 0 \n",
    "    \n",
    "    while not done:\n",
    "        action = random.randint(0,5)\n",
    "        state, reward, done, info = env.step(action)\n",
    "        score+=reward\n",
    "    print('Episode:{} Score:{}'.format(episode, score))"
   ]
  },
  {
   "cell_type": "code",
   "execution_count": 212,
   "metadata": {},
   "outputs": [],
   "source": [
    "import numpy as np\n",
    "from tensorflow.keras.models import Sequential\n",
    "from tensorflow.keras.layers import Dense, Flatten\n",
    "from tensorflow.keras.optimizers import Adam\n",
    "from tensorflow.keras.initializers import he_normal, Zeros"
   ]
  },
  {
   "cell_type": "code",
   "execution_count": 198,
   "metadata": {},
   "outputs": [],
   "source": [
    "from rl.agents import DQNAgent\n",
    "from rl.policy import BoltzmannQPolicy, EpsGreedyQPolicy\n",
    "from rl.memory import SequentialMemory\n",
    "from rl.callbacks import ModelIntervalCheckpoint, FileLogger"
   ]
  },
  {
   "cell_type": "code",
   "execution_count": 213,
   "metadata": {},
   "outputs": [
    {
     "name": "stdout",
     "output_type": "stream",
     "text": [
      "Model: \"sequential_10\"\n",
      "_________________________________________________________________\n",
      " Layer (type)                Output Shape              Param #   \n",
      "=================================================================\n",
      " dense_27 (Dense)            (None, 1, 24)             144       \n",
      "                                                                 \n",
      " dense_28 (Dense)            (None, 1, 24)             600       \n",
      "                                                                 \n",
      " flatten_9 (Flatten)         (None, 24)                0         \n",
      "                                                                 \n",
      " dense_29 (Dense)            (None, 6)                 150       \n",
      "                                                                 \n",
      "=================================================================\n",
      "Total params: 894\n",
      "Trainable params: 894\n",
      "Non-trainable params: 0\n",
      "_________________________________________________________________\n"
     ]
    }
   ],
   "source": [
    "states = env.observation_space.shape\n",
    "actions = env.action_space.n\n",
    "\n",
    "def build_model(states, actions):\n",
    "    model = Sequential()    \n",
    "    model.add(Dense(24, activation='relu', input_shape=(1,5), kernel_initializer=he_normal()))\n",
    "    model.add(Dense(24, activation='relu', kernel_initializer=he_normal()))\n",
    "    #model.add(Dense(12, activation='relu'))\n",
    "    model.add(Flatten())\n",
    "    model.add(Dense(actions, activation='linear', kernel_initializer=Zeros()))\n",
    "    return model\n",
    "\n",
    "model = build_model(states, actions)\n",
    "model.summary()"
   ]
  },
  {
   "cell_type": "code",
   "execution_count": 214,
   "metadata": {},
   "outputs": [],
   "source": [
    "def build_agent(model, actions):\n",
    "    policy = BoltzmannQPolicy() \n",
    "    #policy = EpsGreedyQPolicy(eps=0.9)\n",
    "    memory = SequentialMemory(limit=50000, window_length=1)\n",
    "    dqn = DQNAgent(model=model, memory=memory, policy=policy, \n",
    "                  nb_actions=actions, nb_steps_warmup=10, target_model_update=1e-2)#, batch_size=16) #target_model_update=1e-2) tem batch_size aqui tbm\n",
    "    return dqn\n",
    "\n",
    "def build_callbacks(env_name):\n",
    "    #checkpoint_weights_filename = 'weights/dqn_' + env_name + '_weights_{step}.h5f'\n",
    "    log_filename = 'dqn_{}_log.json'.format(env_name)\n",
    "    #callbacks = [ModelIntervalCheckpoint(checkpoint_weights_filename, interval=1000)]\n",
    "    callbacks = [FileLogger(log_filename, interval=100)]\n",
    "    return callbacks\n"
   ]
  },
  {
   "cell_type": "code",
   "execution_count": 225,
   "metadata": {},
   "outputs": [],
   "source": [
    "%%capture\n",
    "\n",
    "callbacks = build_callbacks('env')\n",
    "dqn = build_agent(model, actions)\n",
    "dqn.compile(Adam(lr=1e-2, clipnorm=1.0), metrics=['mse'])\n",
    "dqn.fit(env, nb_steps=60000, visualize=False, verbose=1, callbacks=callbacks)"
   ]
  },
  {
   "cell_type": "code",
   "execution_count": null,
   "metadata": {},
   "outputs": [
    {
     "name": "stdout",
     "output_type": "stream",
     "text": [
      "Testing for 1 episodes ...\n",
      "Episode 1: reward: 5.736, steps: 5\n",
      "5.736220000000001\n"
     ]
    }
   ],
   "source": [
    "results = dqn.test(env, nb_episodes=1, visualize=False)\n",
    "print(np.mean(results.history['episode_reward']))"
   ]
  },
  {
   "cell_type": "code",
   "execution_count": null,
   "metadata": {},
   "outputs": [
    {
     "name": "stdout",
     "output_type": "stream",
     "text": [
      "[0.16666667 0.16666667 0.16666667 0.16666667 0.16666667]\n",
      "[1.0636, 0.10455500000000001, 0.0, 0.0, 0.0]\n"
     ]
    }
   ],
   "source": [
    "print(env.state)\n",
    "print(env.pts_debug)\n",
    "#print(env.debug)"
   ]
  },
  {
   "cell_type": "code",
   "execution_count": null,
   "metadata": {},
   "outputs": [
    {
     "data": {
      "text/html": [
       "<div>\n",
       "<style scoped>\n",
       "    .dataframe tbody tr th:only-of-type {\n",
       "        vertical-align: middle;\n",
       "    }\n",
       "\n",
       "    .dataframe tbody tr th {\n",
       "        vertical-align: top;\n",
       "    }\n",
       "\n",
       "    .dataframe thead th {\n",
       "        text-align: right;\n",
       "    }\n",
       "</style>\n",
       "<table border=\"1\" class=\"dataframe\">\n",
       "  <thead>\n",
       "    <tr style=\"text-align: right;\">\n",
       "      <th></th>\n",
       "      <th>full_name</th>\n",
       "      <th>fantasy_positions</th>\n",
       "    </tr>\n",
       "  </thead>\n",
       "  <tbody>\n",
       "    <tr>\n",
       "      <th>2</th>\n",
       "      <td>Josh Allen</td>\n",
       "      <td>[QB]</td>\n",
       "    </tr>\n",
       "    <tr>\n",
       "      <th>0</th>\n",
       "      <td>Patrick Mahomes</td>\n",
       "      <td>[QB]</td>\n",
       "    </tr>\n",
       "    <tr>\n",
       "      <th>4</th>\n",
       "      <td>Justin Herbert</td>\n",
       "      <td>[QB]</td>\n",
       "    </tr>\n",
       "    <tr>\n",
       "      <th>1</th>\n",
       "      <td>Matthew Stafford</td>\n",
       "      <td>[QB]</td>\n",
       "    </tr>\n",
       "    <tr>\n",
       "      <th>3</th>\n",
       "      <td>Dak Prescott</td>\n",
       "      <td>[QB]</td>\n",
       "    </tr>\n",
       "  </tbody>\n",
       "</table>\n",
       "</div>"
      ],
      "text/plain": [
       "          full_name fantasy_positions\n",
       "2        Josh Allen              [QB]\n",
       "0   Patrick Mahomes              [QB]\n",
       "4    Justin Herbert              [QB]\n",
       "1  Matthew Stafford              [QB]\n",
       "3      Dak Prescott              [QB]"
      ]
     },
     "execution_count": 218,
     "metadata": {},
     "output_type": "execute_result"
    }
   ],
   "source": [
    "#df_players[df_players['index'].isin(env.rooster)][['full_name', 'fantasy_positions']]\n",
    "df_rooster=pd.DataFrame(env.rooster, columns=['id']).reset_index()\n",
    "df_players.merge(df_rooster, left_on='index', right_on='id', how='inner').sort_values('index_y')[['full_name', 'fantasy_positions']]"
   ]
  },
  {
   "cell_type": "code",
   "execution_count": null,
   "metadata": {},
   "outputs": [
    {
     "data": {
      "text/plain": [
       "[<matplotlib.lines.Line2D at 0x1a6e93c0748>]"
      ]
     },
     "execution_count": 219,
     "metadata": {},
     "output_type": "execute_result"
    },
    {
     "data": {
      "image/png": "[encoded data removed]",
      "text/plain": [
       "<Figure size 432x288 with 1 Axes>"
      ]
     },
     "metadata": {
      "needs_background": "light"
     },
     "output_type": "display_data"
    }
   ],
   "source": [
    "plt.plot(env.lc)"
   ]
  },
  {
   "cell_type": "code",
   "execution_count": null,
   "metadata": {},
   "outputs": [
    {
     "data": {
      "text/plain": [
       "[<matplotlib.lines.Line2D at 0x1a6f62b2128>]"
      ]
     },
     "execution_count": 220,
     "metadata": {},
     "output_type": "execute_result"
    },
    {
     "data": {
      "image/png": "[encoded data removed]",
      "text/plain": [
       "<Figure size 432x288 with 1 Axes>"
      ]
     },
     "metadata": {
      "needs_background": "light"
     },
     "output_type": "display_data"
    }
   ],
   "source": [
    "import json\n",
    "f=open('dqn_env_log.json')\n",
    "a=json.load(f)\n",
    "\n",
    "a.keys()\n",
    "plt.plot(a['loss'])"
   ]
  },
  {
   "cell_type": "code",
   "execution_count": null,
   "metadata": {},
   "outputs": [
    {
     "data": {
      "text/plain": [
       "[<matplotlib.lines.Line2D at 0x1a6e59ea240>]"
      ]
     },
     "execution_count": 221,
     "metadata": {},
     "output_type": "execute_result"
    },
    {
     "data": {
      "image/png": "[encoded data removed]",
      "text/plain": [
       "<Figure size 432x288 with 1 Axes>"
      ]
     },
     "metadata": {
      "needs_background": "light"
     },
     "output_type": "display_data"
    }
   ],
   "source": [
    "plt.plot(a['mse'])"
   ]
  },
  {
   "cell_type": "code",
   "execution_count": null,
   "metadata": {},
   "outputs": [
    {
     "data": {
      "text/plain": [
       "array([[11.350141 , 10.286237 ,  9.747831 ,  9.265288 ,  8.7476425,\n",
       "         8.508801 ]], dtype=float32)"
      ]
     },
     "execution_count": 222,
     "metadata": {},
     "output_type": "execute_result"
    }
   ],
   "source": [
    "#a=np.array([3,0,0,0,0,0,0,0,0,0,0,0,0,0,0])\n",
    "a=np.array([1,0,0,0,0])\n",
    "dqn.model.predict(a.reshape(1,1,5))"
   ]
  },
  {
   "cell_type": "code",
   "execution_count": null,
   "metadata": {},
   "outputs": [],
   "source": [
    "#FAZ TODAS AS SELECOES SEGUINDO O LOOP NORMAL\n",
    "#GUARDA OS STATES DE CADA SELECAO\n",
    "#MAS CALCULA APENAS O SCORE FINAL\n",
    "#AI SO NO FINAL DO LOOP FAZ A ETAPA DE TREINO, PEGANDO ESSE MESMO VALOR DE REWARD FINAL E JOGANDO PARA TODOS OS STATES\n",
    "#ACHO QUE PRECISO ADICIONAR A VAR DE QUANTAS ESCOLHAS FALTAM. MAS NAO TENHO CERTEZA"
   ]
  },
  {
   "cell_type": "code",
   "execution_count": null,
   "metadata": {},
   "outputs": [],
   "source": [
    "#state -> vagas para cada posicao; top n de cada posicao; picks a fazer; escolhas ate a proxima\n",
    "#decisao -> qual posicao pegar (da pra adicionar depois qual rank de qual posicao pegar)\n",
    "#score -> pontuacao dos jogadores; penalidade absurda se nao preencher todas as posicoes; penalidade se pegar mais de 2 reservas da poiscao (ou mais de 1?)"
   ]
  }
 ],
 "metadata": {
  "kernelspec": {
   "display_name": "Python 3.7.3 64-bit",
   "language": "python",
   "name": "python3"
  },
  "language_info": {
   "codemirror_mode": {
    "name": "ipython",
    "version": 3
   },
   "file_extension": ".py",
   "mimetype": "text/x-python",
   "name": "python",
   "nbconvert_exporter": "python",
   "pygments_lexer": "ipython3",
   "version": "3.7.3"
  },
  "orig_nbformat": 4,
  "vscode": {
   "interpreter": {
    "hash": "08f56efc7cdedacbbdf1993ea966347fa8feaf34d72e8db28d778119cdbb7244"
   }
  }
 },
 "nbformat": 4,
 "nbformat_minor": 2
}
